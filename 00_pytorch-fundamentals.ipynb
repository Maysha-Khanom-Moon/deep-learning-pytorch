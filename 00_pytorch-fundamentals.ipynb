{
  "cells": [
    {
      "cell_type": "markdown",
      "source": [
        "## **00. PyTorch Fundamentals**\n",
        "Resource notebook: https://www.learnpytorch.io/00_pytorch_fundamentals/"
      ],
      "metadata": {
        "id": "we8JyEpEDcyv"
      },
      "id": "we8JyEpEDcyv"
    },
    {
      "cell_type": "code",
      "execution_count": 1,
      "id": "b7dac722",
      "metadata": {
        "id": "b7dac722",
        "outputId": "fb7cb6d3-7279-4274-a977-63ad6179ba94",
        "colab": {
          "base_uri": "https://localhost:8080/"
        }
      },
      "outputs": [
        {
          "output_type": "stream",
          "name": "stdout",
          "text": [
            "Hello I'm excited to learn PyTorch!\n"
          ]
        }
      ],
      "source": [
        "print(\"Hello I'm excited to learn PyTorch!\")"
      ]
    }
  ],
  "metadata": {
    "kernelspec": {
      "display_name": "Python 3",
      "name": "python3"
    },
    "language_info": {
      "codemirror_mode": {
        "name": "ipython",
        "version": 3
      },
      "file_extension": ".py",
      "mimetype": "text/x-python",
      "name": "python",
      "nbconvert_exporter": "python",
      "pygments_lexer": "ipython3",
      "version": "3.12.8"
    },
    "colab": {
      "provenance": [],
      "gpuType": "T4"
    },
    "accelerator": "GPU"
  },
  "nbformat": 4,
  "nbformat_minor": 5
}